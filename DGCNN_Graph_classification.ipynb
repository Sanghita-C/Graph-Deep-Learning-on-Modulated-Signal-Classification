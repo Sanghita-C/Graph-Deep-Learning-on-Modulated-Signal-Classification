{
  "cells": [
    {
      "cell_type": "markdown",
      "metadata": {
        "id": "view-in-github",
        "colab_type": "text"
      },
      "source": [
        "<a href=\"https://colab.research.google.com/github/Sanghita-C/Graph-Deep-Learning-on-Modulated-Signal-Classification/blob/main/DGCNN_Graph_classification.ipynb\" target=\"_parent\"><img src=\"https://colab.research.google.com/assets/colab-badge.svg\" alt=\"Open In Colab\"/></a>"
      ]
    },
    {
      "cell_type": "code",
      "execution_count": null,
      "metadata": {
        "colab": {
          "base_uri": "https://localhost:8080/"
        },
        "id": "lIjSptS10g-0",
        "outputId": "4fe9aec0-f5e7-4bc5-f97d-23541268f093"
      },
      "outputs": [
        {
          "output_type": "stream",
          "name": "stdout",
          "text": [
            "Requirement already satisfied: ts2vg in /usr/local/lib/python3.7/dist-packages (1.0.0)\n",
            "Requirement already satisfied: numpy in /usr/local/lib/python3.7/dist-packages (from ts2vg) (1.21.5)\n",
            "Requirement already satisfied: StellarGraph in /usr/local/lib/python3.7/dist-packages (1.2.1)\n",
            "Requirement already satisfied: matplotlib>=2.2 in /usr/local/lib/python3.7/dist-packages (from StellarGraph) (3.2.2)\n",
            "Requirement already satisfied: pandas>=0.24 in /usr/local/lib/python3.7/dist-packages (from StellarGraph) (1.3.5)\n",
            "Requirement already satisfied: scikit-learn>=0.20 in /usr/local/lib/python3.7/dist-packages (from StellarGraph) (1.0.2)\n",
            "Requirement already satisfied: tensorflow>=2.1.0 in /usr/local/lib/python3.7/dist-packages (from StellarGraph) (2.8.0)\n",
            "Requirement already satisfied: scipy>=1.1.0 in /usr/local/lib/python3.7/dist-packages (from StellarGraph) (1.4.1)\n",
            "Requirement already satisfied: gensim>=3.4.0 in /usr/local/lib/python3.7/dist-packages (from StellarGraph) (3.6.0)\n",
            "Requirement already satisfied: networkx>=2.2 in /usr/local/lib/python3.7/dist-packages (from StellarGraph) (2.6.3)\n",
            "Requirement already satisfied: numpy>=1.14 in /usr/local/lib/python3.7/dist-packages (from StellarGraph) (1.21.5)\n",
            "Requirement already satisfied: six>=1.5.0 in /usr/local/lib/python3.7/dist-packages (from gensim>=3.4.0->StellarGraph) (1.15.0)\n",
            "Requirement already satisfied: smart-open>=1.2.1 in /usr/local/lib/python3.7/dist-packages (from gensim>=3.4.0->StellarGraph) (5.2.1)\n",
            "Requirement already satisfied: python-dateutil>=2.1 in /usr/local/lib/python3.7/dist-packages (from matplotlib>=2.2->StellarGraph) (2.8.2)\n",
            "Requirement already satisfied: cycler>=0.10 in /usr/local/lib/python3.7/dist-packages (from matplotlib>=2.2->StellarGraph) (0.11.0)\n",
            "Requirement already satisfied: kiwisolver>=1.0.1 in /usr/local/lib/python3.7/dist-packages (from matplotlib>=2.2->StellarGraph) (1.4.2)\n",
            "Requirement already satisfied: pyparsing!=2.0.4,!=2.1.2,!=2.1.6,>=2.0.1 in /usr/local/lib/python3.7/dist-packages (from matplotlib>=2.2->StellarGraph) (3.0.8)\n",
            "Requirement already satisfied: typing-extensions in /usr/local/lib/python3.7/dist-packages (from kiwisolver>=1.0.1->matplotlib>=2.2->StellarGraph) (4.1.1)\n",
            "Requirement already satisfied: pytz>=2017.3 in /usr/local/lib/python3.7/dist-packages (from pandas>=0.24->StellarGraph) (2018.9)\n",
            "Requirement already satisfied: threadpoolctl>=2.0.0 in /usr/local/lib/python3.7/dist-packages (from scikit-learn>=0.20->StellarGraph) (3.1.0)\n",
            "Requirement already satisfied: joblib>=0.11 in /usr/local/lib/python3.7/dist-packages (from scikit-learn>=0.20->StellarGraph) (1.1.0)\n",
            "Requirement already satisfied: h5py>=2.9.0 in /usr/local/lib/python3.7/dist-packages (from tensorflow>=2.1.0->StellarGraph) (3.1.0)\n",
            "Requirement already satisfied: setuptools in /usr/local/lib/python3.7/dist-packages (from tensorflow>=2.1.0->StellarGraph) (57.4.0)\n",
            "Requirement already satisfied: grpcio<2.0,>=1.24.3 in /usr/local/lib/python3.7/dist-packages (from tensorflow>=2.1.0->StellarGraph) (1.44.0)\n",
            "Requirement already satisfied: tensorflow-io-gcs-filesystem>=0.23.1 in /usr/local/lib/python3.7/dist-packages (from tensorflow>=2.1.0->StellarGraph) (0.24.0)\n",
            "Requirement already satisfied: flatbuffers>=1.12 in /usr/local/lib/python3.7/dist-packages (from tensorflow>=2.1.0->StellarGraph) (2.0)\n",
            "Requirement already satisfied: keras-preprocessing>=1.1.1 in /usr/local/lib/python3.7/dist-packages (from tensorflow>=2.1.0->StellarGraph) (1.1.2)\n",
            "Requirement already satisfied: astunparse>=1.6.0 in /usr/local/lib/python3.7/dist-packages (from tensorflow>=2.1.0->StellarGraph) (1.6.3)\n",
            "Requirement already satisfied: wrapt>=1.11.0 in /usr/local/lib/python3.7/dist-packages (from tensorflow>=2.1.0->StellarGraph) (1.14.0)\n",
            "Requirement already satisfied: libclang>=9.0.1 in /usr/local/lib/python3.7/dist-packages (from tensorflow>=2.1.0->StellarGraph) (13.0.0)\n",
            "Requirement already satisfied: keras<2.9,>=2.8.0rc0 in /usr/local/lib/python3.7/dist-packages (from tensorflow>=2.1.0->StellarGraph) (2.8.0)\n",
            "Requirement already satisfied: tf-estimator-nightly==2.8.0.dev2021122109 in /usr/local/lib/python3.7/dist-packages (from tensorflow>=2.1.0->StellarGraph) (2.8.0.dev2021122109)\n",
            "Requirement already satisfied: tensorboard<2.9,>=2.8 in /usr/local/lib/python3.7/dist-packages (from tensorflow>=2.1.0->StellarGraph) (2.8.0)\n",
            "Requirement already satisfied: gast>=0.2.1 in /usr/local/lib/python3.7/dist-packages (from tensorflow>=2.1.0->StellarGraph) (0.5.3)\n",
            "Requirement already satisfied: absl-py>=0.4.0 in /usr/local/lib/python3.7/dist-packages (from tensorflow>=2.1.0->StellarGraph) (1.0.0)\n",
            "Requirement already satisfied: termcolor>=1.1.0 in /usr/local/lib/python3.7/dist-packages (from tensorflow>=2.1.0->StellarGraph) (1.1.0)\n",
            "Requirement already satisfied: protobuf>=3.9.2 in /usr/local/lib/python3.7/dist-packages (from tensorflow>=2.1.0->StellarGraph) (3.17.3)\n",
            "Requirement already satisfied: opt-einsum>=2.3.2 in /usr/local/lib/python3.7/dist-packages (from tensorflow>=2.1.0->StellarGraph) (3.3.0)\n",
            "Requirement already satisfied: google-pasta>=0.1.1 in /usr/local/lib/python3.7/dist-packages (from tensorflow>=2.1.0->StellarGraph) (0.2.0)\n",
            "Requirement already satisfied: wheel<1.0,>=0.23.0 in /usr/local/lib/python3.7/dist-packages (from astunparse>=1.6.0->tensorflow>=2.1.0->StellarGraph) (0.37.1)\n",
            "Requirement already satisfied: cached-property in /usr/local/lib/python3.7/dist-packages (from h5py>=2.9.0->tensorflow>=2.1.0->StellarGraph) (1.5.2)\n",
            "Requirement already satisfied: werkzeug>=0.11.15 in /usr/local/lib/python3.7/dist-packages (from tensorboard<2.9,>=2.8->tensorflow>=2.1.0->StellarGraph) (1.0.1)\n",
            "Requirement already satisfied: requests<3,>=2.21.0 in /usr/local/lib/python3.7/dist-packages (from tensorboard<2.9,>=2.8->tensorflow>=2.1.0->StellarGraph) (2.23.0)\n",
            "Requirement already satisfied: google-auth<3,>=1.6.3 in /usr/local/lib/python3.7/dist-packages (from tensorboard<2.9,>=2.8->tensorflow>=2.1.0->StellarGraph) (1.35.0)\n",
            "Requirement already satisfied: tensorboard-plugin-wit>=1.6.0 in /usr/local/lib/python3.7/dist-packages (from tensorboard<2.9,>=2.8->tensorflow>=2.1.0->StellarGraph) (1.8.1)\n",
            "Requirement already satisfied: google-auth-oauthlib<0.5,>=0.4.1 in /usr/local/lib/python3.7/dist-packages (from tensorboard<2.9,>=2.8->tensorflow>=2.1.0->StellarGraph) (0.4.6)\n",
            "Requirement already satisfied: tensorboard-data-server<0.7.0,>=0.6.0 in /usr/local/lib/python3.7/dist-packages (from tensorboard<2.9,>=2.8->tensorflow>=2.1.0->StellarGraph) (0.6.1)\n",
            "Requirement already satisfied: markdown>=2.6.8 in /usr/local/lib/python3.7/dist-packages (from tensorboard<2.9,>=2.8->tensorflow>=2.1.0->StellarGraph) (3.3.6)\n",
            "Requirement already satisfied: pyasn1-modules>=0.2.1 in /usr/local/lib/python3.7/dist-packages (from google-auth<3,>=1.6.3->tensorboard<2.9,>=2.8->tensorflow>=2.1.0->StellarGraph) (0.2.8)\n",
            "Requirement already satisfied: cachetools<5.0,>=2.0.0 in /usr/local/lib/python3.7/dist-packages (from google-auth<3,>=1.6.3->tensorboard<2.9,>=2.8->tensorflow>=2.1.0->StellarGraph) (4.2.4)\n",
            "Requirement already satisfied: rsa<5,>=3.1.4 in /usr/local/lib/python3.7/dist-packages (from google-auth<3,>=1.6.3->tensorboard<2.9,>=2.8->tensorflow>=2.1.0->StellarGraph) (4.8)\n",
            "Requirement already satisfied: requests-oauthlib>=0.7.0 in /usr/local/lib/python3.7/dist-packages (from google-auth-oauthlib<0.5,>=0.4.1->tensorboard<2.9,>=2.8->tensorflow>=2.1.0->StellarGraph) (1.3.1)\n",
            "Requirement already satisfied: importlib-metadata>=4.4 in /usr/local/lib/python3.7/dist-packages (from markdown>=2.6.8->tensorboard<2.9,>=2.8->tensorflow>=2.1.0->StellarGraph) (4.11.3)\n",
            "Requirement already satisfied: zipp>=0.5 in /usr/local/lib/python3.7/dist-packages (from importlib-metadata>=4.4->markdown>=2.6.8->tensorboard<2.9,>=2.8->tensorflow>=2.1.0->StellarGraph) (3.8.0)\n",
            "Requirement already satisfied: pyasn1<0.5.0,>=0.4.6 in /usr/local/lib/python3.7/dist-packages (from pyasn1-modules>=0.2.1->google-auth<3,>=1.6.3->tensorboard<2.9,>=2.8->tensorflow>=2.1.0->StellarGraph) (0.4.8)\n",
            "Requirement already satisfied: idna<3,>=2.5 in /usr/local/lib/python3.7/dist-packages (from requests<3,>=2.21.0->tensorboard<2.9,>=2.8->tensorflow>=2.1.0->StellarGraph) (2.10)\n",
            "Requirement already satisfied: urllib3!=1.25.0,!=1.25.1,<1.26,>=1.21.1 in /usr/local/lib/python3.7/dist-packages (from requests<3,>=2.21.0->tensorboard<2.9,>=2.8->tensorflow>=2.1.0->StellarGraph) (1.24.3)\n",
            "Requirement already satisfied: chardet<4,>=3.0.2 in /usr/local/lib/python3.7/dist-packages (from requests<3,>=2.21.0->tensorboard<2.9,>=2.8->tensorflow>=2.1.0->StellarGraph) (3.0.4)\n",
            "Requirement already satisfied: certifi>=2017.4.17 in /usr/local/lib/python3.7/dist-packages (from requests<3,>=2.21.0->tensorboard<2.9,>=2.8->tensorflow>=2.1.0->StellarGraph) (2021.10.8)\n",
            "Requirement already satisfied: oauthlib>=3.0.0 in /usr/local/lib/python3.7/dist-packages (from requests-oauthlib>=0.7.0->google-auth-oauthlib<0.5,>=0.4.1->tensorboard<2.9,>=2.8->tensorflow>=2.1.0->StellarGraph) (3.2.0)\n"
          ]
        }
      ],
      "source": [
        "!pip install ts2vg\n",
        "!pip install StellarGraph"
      ]
    },
    {
      "cell_type": "code",
      "execution_count": null,
      "metadata": {
        "id": "LZfQF2QU4Ni4"
      },
      "outputs": [],
      "source": [
        "import numpy as np\n",
        "from math import atan"
      ]
    },
    {
      "cell_type": "code",
      "execution_count": null,
      "metadata": {
        "colab": {
          "base_uri": "https://localhost:8080/"
        },
        "id": "rowi_w0f1BgQ",
        "outputId": "360dc607-f83d-41eb-d54b-cb40d103f93f"
      },
      "outputs": [
        {
          "output_type": "stream",
          "name": "stdout",
          "text": [
            "        0         1         2         3         4         5         6    \\\n",
            "0  0.519681  0.382057  0.694536  1.685461  1.287303  1.464971  1.917968   \n",
            "1  0.798028  0.360243  0.647792  0.881805  1.869244  2.187002  0.643027   \n",
            "2  1.385062  1.456002  0.536612  1.547960  1.072391  0.833254  0.103374   \n",
            "3  0.589882  1.461255  0.905232  0.884514  1.292295  1.343293  0.984002   \n",
            "4  1.155114  0.889908  1.181489  0.239214  0.240618  0.899716  0.279313   \n",
            "\n",
            "        7         8         9    ...       990       991       992       993  \\\n",
            "0  1.200254  1.188969  1.481862  ...  0.327275  0.367779  0.708952  1.180455   \n",
            "1  0.341909  0.920655  0.592476  ...  0.545808  1.042258  0.200139  0.922647   \n",
            "2  0.409530  1.245530  0.747188  ...  0.238362  1.164617  1.094023  1.298176   \n",
            "3  0.522532  0.507792  0.879256  ...  1.339748  0.991223  1.171921  0.938449   \n",
            "4  1.041494  0.599085  0.787540  ...  1.033626  0.826715  0.543034  0.159285   \n",
            "\n",
            "        994       995       996       997       998       999  \n",
            "0  0.494204  1.105373  0.769009  1.017602  1.293539  0.539929  \n",
            "1  0.686222  0.399794  0.532204  0.680619  0.255389  2.259294  \n",
            "2  0.500079  1.002110  1.198342  0.274042  1.249121  0.415295  \n",
            "3  0.382838  0.394383  0.590689  0.740944  0.687521  1.328200  \n",
            "4  0.582315  0.728537  0.400059  1.062584  0.803378  0.831962  \n",
            "\n",
            "[5 rows x 2000 columns]\n",
            "(1024, 2000)\n"
          ]
        }
      ],
      "source": [
        "import pandas as pd\n",
        "df1 = pd.read_excel('BPSKModSignals.xlsx',header = None)\n",
        "df2 = pd.read_excel('64QAMmagSignals.xlsx',header = None)\n",
        "#df3 = pd.read_excel('GFSKMagSignals.xlsx',header = None)\n",
        "df = pd.concat([df1,df2],axis=1)\n",
        "print(df.head())\n",
        "print(df.shape)"
      ]
    },
    {
      "cell_type": "code",
      "execution_count": null,
      "metadata": {
        "colab": {
          "base_uri": "https://localhost:8080/"
        },
        "id": "ikYHp01X2H94",
        "outputId": "aad96fca-43f5-4eb8-cb7c-cf3844919c9b"
      },
      "outputs": [
        {
          "output_type": "execute_result",
          "data": {
            "text/plain": [
              "numpy.ndarray"
            ]
          },
          "metadata": {},
          "execution_count": 4
        }
      ],
      "source": [
        "df = df.to_numpy()\n",
        "type(df)"
      ]
    },
    {
      "cell_type": "code",
      "execution_count": null,
      "metadata": {
        "id": "lMefFA8Q47fR"
      },
      "outputs": [],
      "source": [
        "#hist, bins = np.histogram(df,20)\n",
        "#print(hist)\n",
        "#print(bins)"
      ]
    },
    {
      "cell_type": "code",
      "execution_count": null,
      "metadata": {
        "colab": {
          "base_uri": "https://localhost:8080/",
          "height": 87
        },
        "id": "ftYksg485_8X",
        "outputId": "f9e1bd31-9d43-4f65-a528-40373e19c31a"
      },
      "outputs": [
        {
          "output_type": "execute_result",
          "data": {
            "text/plain": [
              "'\\nbinned_df = np.zeros((1024,1000))\\nfor i in range(0,1000):\\n  for j in range(0,1000):\\n    binned = False\\n    for k in range(1,20):\\n      if df[i][j]<bins[k]:\\n        binned_df[i][j] = k\\n        binned = True\\n        break\\n    if binned == False:\\n      binned_df[i][j] = 20\\nprint(binned_df[0][0])\\nprint(binned_df.shape)\\nbinned_df\\n'"
            ],
            "application/vnd.google.colaboratory.intrinsic+json": {
              "type": "string"
            }
          },
          "metadata": {},
          "execution_count": 6
        }
      ],
      "source": [
        "'''\n",
        "binned_df = np.zeros((1024,1000))\n",
        "for i in range(0,1000):\n",
        "  for j in range(0,1000):\n",
        "    binned = False\n",
        "    for k in range(1,20):\n",
        "      if df[i][j]<bins[k]:\n",
        "        binned_df[i][j] = k\n",
        "        binned = True\n",
        "        break\n",
        "    if binned == False:\n",
        "      binned_df[i][j] = 20\n",
        "print(binned_df[0][0])\n",
        "print(binned_df.shape)\n",
        "binned_df\n",
        "'''"
      ]
    },
    {
      "cell_type": "code",
      "execution_count": null,
      "metadata": {
        "id": "fwcEKhYDozhv"
      },
      "outputs": [],
      "source": [
        "#binned_df1 = np.digitize(df,bins)\n",
        "#binned_df1"
      ]
    },
    {
      "cell_type": "code",
      "execution_count": null,
      "metadata": {
        "id": "Ghh9CWL2dx5B"
      },
      "outputs": [],
      "source": [
        "import networkx as nx\n",
        "from ts2vg import NaturalVG\n",
        "import matplotlib.pyplot as plt\n",
        "from stellargraph import StellarGraph\n",
        "#G.add_nodes_from(bins)"
      ]
    },
    {
      "cell_type": "code",
      "execution_count": null,
      "metadata": {
        "id": "zwSr2Q6qw2Gm"
      },
      "outputs": [],
      "source": [
        "sample_time = 5e-6;"
      ]
    },
    {
      "cell_type": "code",
      "execution_count": null,
      "metadata": {
        "id": "RYVP9l3CrecU"
      },
      "outputs": [],
      "source": [
        "graphSet = []\n",
        "graphLabel = []"
      ]
    },
    {
      "cell_type": "code",
      "execution_count": null,
      "metadata": {
        "id": "BkeU76y60-hm"
      },
      "outputs": [],
      "source": [
        "for i in range(0,2000):\n",
        "  #ts = binned_df1[:,i]\n",
        "  ts= df[:,i]\n",
        "  hist, bins = np.histogram(ts,20)\n",
        "  binned_ts = np.digitize(ts,bins)\n",
        "  G = nx.MultiGraph()\n",
        "  g1 = NaturalVG()\n",
        "\n",
        "  #print(binned_ts)\n",
        "  g1.build(ts)\n",
        "  edges = g1.edges\n",
        "  #print(edges)\n",
        "  for pairs in edges:\n",
        "    #print(i)\n",
        "    #print(pairs[0])\n",
        "    #print(pairs[1])\n",
        "    #print(df[pairs[1],i])\n",
        "    #print(df[pairs[0],i])\n",
        "    if pairs[0]>pairs[1]:\n",
        "      weight_of_edge = atan((ts[pairs[0]]-ts[pairs[1]])/((pairs[0]-pairs[1])))\n",
        "    else:\n",
        "      weight_of_edge = atan((ts[pairs[1]]-ts[pairs[0]])/((pairs[1]-pairs[0])))\n",
        "    #print(binned_df1[pairs[0],i])\n",
        "    #print(binned_df1[pairs[1],i])\n",
        "    #print(weight_of_edge)\n",
        "    G.add_edge(binned_ts[pairs[0]],binned_ts[pairs[1]],weight = weight_of_edge)\n",
        "  '''\n",
        "        The next part will take care of generating few features for each node and we will try to embedd these features to the nodes\n",
        "        which will be used later while doing the CNN part.\n",
        "\n",
        "        AS OF NOW THE FEATURES DON'T INCLUDE STANDARD DEVIATION OF EDGE WEIGHTS\n",
        "\n",
        "  '''\n",
        "  node_id = list(G.nodes())\n",
        "  #print(node_id)\n",
        "  node_attr = {}\n",
        "  for node in node_id:\n",
        "    key = node\n",
        "    degrees = G.degree(node)\n",
        "    edgeMean = G.degree(node,weight=\"weight\")\n",
        "    edgeMean = edgeMean/degrees\n",
        "    feature_set = {'Degrees': degrees,\n",
        "                   'MeanWeight': edgeMean}\n",
        "    node_attr[key] = feature_set\n",
        "\n",
        "\n",
        "  feature_df = pd.DataFrame(node_attr)\n",
        "  feature_df = feature_df.transpose()\n",
        "  #print(feature_df)\n",
        "  nx.set_node_attributes(G,node_attr)\n",
        "  graph = StellarGraph.from_networkx(G,node_features = feature_df)\n",
        "  graphSet.append(graph)\n",
        "  if i<1000:\n",
        "    graphLabel.append(1)\n",
        "  else:\n",
        "    graphLabel.append(2)\n",
        "\n",
        "\n",
        "  #print(graph.info())\n",
        "\n",
        "  #nx.draw( G )\n",
        "  #plt.show()\n",
        "  #print(G.number_of_nodes())\n",
        "  #print(type(G.nodes()))\n",
        "    #G.add_edge(pairs[0],pairs[1])"
      ]
    },
    {
      "cell_type": "code",
      "execution_count": null,
      "metadata": {
        "colab": {
          "base_uri": "https://localhost:8080/"
        },
        "id": "ywNr1aOZ585D",
        "outputId": "64e62ef3-3efd-45d5-ffb4-3f05768c93dc"
      },
      "outputs": [
        {
          "output_type": "stream",
          "name": "stdout",
          "text": [
            "2000\n",
            "[1, 1, 1, 1, 1, 1, 1, 1, 1, 1, 1, 1, 1, 1, 1, 1, 1, 1, 1, 1, 1, 1, 1, 1, 1, 1, 1, 1, 1, 1, 1, 1, 1, 1, 1, 1, 1, 1, 1, 1, 1, 1, 1, 1, 1, 1, 1, 1, 1, 1, 1, 1, 1, 1, 1, 1, 1, 1, 1, 1, 1, 1, 1, 1, 1, 1, 1, 1, 1, 1, 1, 1, 1, 1, 1, 1, 1, 1, 1, 1, 1, 1, 1, 1, 1, 1, 1, 1, 1, 1, 1, 1, 1, 1, 1, 1, 1, 1, 1, 1, 1, 1, 1, 1, 1, 1, 1, 1, 1, 1, 1, 1, 1, 1, 1, 1, 1, 1, 1, 1, 1, 1, 1, 1, 1, 1, 1, 1, 1, 1, 1, 1, 1, 1, 1, 1, 1, 1, 1, 1, 1, 1, 1, 1, 1, 1, 1, 1, 1, 1, 1, 1, 1, 1, 1, 1, 1, 1, 1, 1, 1, 1, 1, 1, 1, 1, 1, 1, 1, 1, 1, 1, 1, 1, 1, 1, 1, 1, 1, 1, 1, 1, 1, 1, 1, 1, 1, 1, 1, 1, 1, 1, 1, 1, 1, 1, 1, 1, 1, 1, 1, 1, 1, 1, 1, 1, 1, 1, 1, 1, 1, 1, 1, 1, 1, 1, 1, 1, 1, 1, 1, 1, 1, 1, 1, 1, 1, 1, 1, 1, 1, 1, 1, 1, 1, 1, 1, 1, 1, 1, 1, 1, 1, 1, 1, 1, 1, 1, 1, 1, 1, 1, 1, 1, 1, 1, 1, 1, 1, 1, 1, 1, 1, 1, 1, 1, 1, 1, 1, 1, 1, 1, 1, 1, 1, 1, 1, 1, 1, 1, 1, 1, 1, 1, 1, 1, 1, 1, 1, 1, 1, 1, 1, 1, 1, 1, 1, 1, 1, 1, 1, 1, 1, 1, 1, 1, 1, 1, 1, 1, 1, 1, 1, 1, 1, 1, 1, 1, 1, 1, 1, 1, 1, 1, 1, 1, 1, 1, 1, 1, 1, 1, 1, 1, 1, 1, 1, 1, 1, 1, 1, 1, 1, 1, 1, 1, 1, 1, 1, 1, 1, 1, 1, 1, 1, 1, 1, 1, 1, 1, 1, 1, 1, 1, 1, 1, 1, 1, 1, 1, 1, 1, 1, 1, 1, 1, 1, 1, 1, 1, 1, 1, 1, 1, 1, 1, 1, 1, 1, 1, 1, 1, 1, 1, 1, 1, 1, 1, 1, 1, 1, 1, 1, 1, 1, 1, 1, 1, 1, 1, 1, 1, 1, 1, 1, 1, 1, 1, 1, 1, 1, 1, 1, 1, 1, 1, 1, 1, 1, 1, 1, 1, 1, 1, 1, 1, 1, 1, 1, 1, 1, 1, 1, 1, 1, 1, 1, 1, 1, 1, 1, 1, 1, 1, 1, 1, 1, 1, 1, 1, 1, 1, 1, 1, 1, 1, 1, 1, 1, 1, 1, 1, 1, 1, 1, 1, 1, 1, 1, 1, 1, 1, 1, 1, 1, 1, 1, 1, 1, 1, 1, 1, 1, 1, 1, 1, 1, 1, 1, 1, 1, 1, 1, 1, 1, 1, 1, 1, 1, 1, 1, 1, 1, 1, 1, 1, 1, 1, 1, 1, 1, 1, 1, 1, 1, 1, 1, 1, 1, 1, 1, 1, 1, 1, 1, 1, 1, 1, 1, 1, 1, 1, 1, 1, 1, 1, 1, 1, 1, 1, 1, 1, 1, 1, 1, 1, 1, 1, 1, 1, 1, 1, 1, 1, 1, 1, 1, 1, 1, 1, 1, 1, 1, 1, 1, 1, 1, 1, 1, 1, 1, 1, 1, 1, 1, 1, 1, 1, 1, 1, 1, 1, 1, 1, 1, 1, 1, 1, 1, 1, 1, 1, 1, 1, 1, 1, 1, 1, 1, 1, 1, 1, 1, 1, 1, 1, 1, 1, 1, 1, 1, 1, 1, 1, 1, 1, 1, 1, 1, 1, 1, 1, 1, 1, 1, 1, 1, 1, 1, 1, 1, 1, 1, 1, 1, 1, 1, 1, 1, 1, 1, 1, 1, 1, 1, 1, 1, 1, 1, 1, 1, 1, 1, 1, 1, 1, 1, 1, 1, 1, 1, 1, 1, 1, 1, 1, 1, 1, 1, 1, 1, 1, 1, 1, 1, 1, 1, 1, 1, 1, 1, 1, 1, 1, 1, 1, 1, 1, 1, 1, 1, 1, 1, 1, 1, 1, 1, 1, 1, 1, 1, 1, 1, 1, 1, 1, 1, 1, 1, 1, 1, 1, 1, 1, 1, 1, 1, 1, 1, 1, 1, 1, 1, 1, 1, 1, 1, 1, 1, 1, 1, 1, 1, 1, 1, 1, 1, 1, 1, 1, 1, 1, 1, 1, 1, 1, 1, 1, 1, 1, 1, 1, 1, 1, 1, 1, 1, 1, 1, 1, 1, 1, 1, 1, 1, 1, 1, 1, 1, 1, 1, 1, 1, 1, 1, 1, 1, 1, 1, 1, 1, 1, 1, 1, 1, 1, 1, 1, 1, 1, 1, 1, 1, 1, 1, 1, 1, 1, 1, 1, 1, 1, 1, 1, 1, 1, 1, 1, 1, 1, 1, 1, 1, 1, 1, 1, 1, 1, 1, 1, 1, 1, 1, 1, 1, 1, 1, 1, 1, 1, 1, 1, 1, 1, 1, 1, 1, 1, 1, 1, 1, 1, 1, 1, 1, 1, 1, 1, 1, 1, 1, 1, 1, 1, 1, 1, 1, 1, 1, 1, 1, 1, 1, 1, 1, 1, 1, 1, 1, 1, 1, 1, 1, 1, 1, 1, 1, 1, 1, 1, 1, 1, 1, 1, 1, 1, 1, 1, 1, 1, 1, 1, 1, 1, 1, 1, 1, 1, 1, 1, 1, 1, 1, 1, 1, 1, 1, 1, 1, 1, 1, 1, 1, 1, 1, 1, 1, 1, 1, 1, 1, 1, 1, 1, 1, 1, 1, 1, 1, 1, 1, 1, 1, 1, 1, 1, 1, 1, 1, 1, 1, 1, 1, 1, 1, 1, 1, 1, 1, 1, 1, 1, 1, 1, 1, 1, 1, 1, 1, 1, 1, 1, 1, 1, 1, 1, 1, 1, 1, 1, 1, 1, 1, 1, 1, 1, 1, 1, 1, 1, 1, 1, 1, 1, 1, 1, 1, 1, 1, 1, 2, 2, 2, 2, 2, 2, 2, 2, 2, 2, 2, 2, 2, 2, 2, 2, 2, 2, 2, 2, 2, 2, 2, 2, 2, 2, 2, 2, 2, 2, 2, 2, 2, 2, 2, 2, 2, 2, 2, 2, 2, 2, 2, 2, 2, 2, 2, 2, 2, 2, 2, 2, 2, 2, 2, 2, 2, 2, 2, 2, 2, 2, 2, 2, 2, 2, 2, 2, 2, 2, 2, 2, 2, 2, 2, 2, 2, 2, 2, 2, 2, 2, 2, 2, 2, 2, 2, 2, 2, 2, 2, 2, 2, 2, 2, 2, 2, 2, 2, 2, 2, 2, 2, 2, 2, 2, 2, 2, 2, 2, 2, 2, 2, 2, 2, 2, 2, 2, 2, 2, 2, 2, 2, 2, 2, 2, 2, 2, 2, 2, 2, 2, 2, 2, 2, 2, 2, 2, 2, 2, 2, 2, 2, 2, 2, 2, 2, 2, 2, 2, 2, 2, 2, 2, 2, 2, 2, 2, 2, 2, 2, 2, 2, 2, 2, 2, 2, 2, 2, 2, 2, 2, 2, 2, 2, 2, 2, 2, 2, 2, 2, 2, 2, 2, 2, 2, 2, 2, 2, 2, 2, 2, 2, 2, 2, 2, 2, 2, 2, 2, 2, 2, 2, 2, 2, 2, 2, 2, 2, 2, 2, 2, 2, 2, 2, 2, 2, 2, 2, 2, 2, 2, 2, 2, 2, 2, 2, 2, 2, 2, 2, 2, 2, 2, 2, 2, 2, 2, 2, 2, 2, 2, 2, 2, 2, 2, 2, 2, 2, 2, 2, 2, 2, 2, 2, 2, 2, 2, 2, 2, 2, 2, 2, 2, 2, 2, 2, 2, 2, 2, 2, 2, 2, 2, 2, 2, 2, 2, 2, 2, 2, 2, 2, 2, 2, 2, 2, 2, 2, 2, 2, 2, 2, 2, 2, 2, 2, 2, 2, 2, 2, 2, 2, 2, 2, 2, 2, 2, 2, 2, 2, 2, 2, 2, 2, 2, 2, 2, 2, 2, 2, 2, 2, 2, 2, 2, 2, 2, 2, 2, 2, 2, 2, 2, 2, 2, 2, 2, 2, 2, 2, 2, 2, 2, 2, 2, 2, 2, 2, 2, 2, 2, 2, 2, 2, 2, 2, 2, 2, 2, 2, 2, 2, 2, 2, 2, 2, 2, 2, 2, 2, 2, 2, 2, 2, 2, 2, 2, 2, 2, 2, 2, 2, 2, 2, 2, 2, 2, 2, 2, 2, 2, 2, 2, 2, 2, 2, 2, 2, 2, 2, 2, 2, 2, 2, 2, 2, 2, 2, 2, 2, 2, 2, 2, 2, 2, 2, 2, 2, 2, 2, 2, 2, 2, 2, 2, 2, 2, 2, 2, 2, 2, 2, 2, 2, 2, 2, 2, 2, 2, 2, 2, 2, 2, 2, 2, 2, 2, 2, 2, 2, 2, 2, 2, 2, 2, 2, 2, 2, 2, 2, 2, 2, 2, 2, 2, 2, 2, 2, 2, 2, 2, 2, 2, 2, 2, 2, 2, 2, 2, 2, 2, 2, 2, 2, 2, 2, 2, 2, 2, 2, 2, 2, 2, 2, 2, 2, 2, 2, 2, 2, 2, 2, 2, 2, 2, 2, 2, 2, 2, 2, 2, 2, 2, 2, 2, 2, 2, 2, 2, 2, 2, 2, 2, 2, 2, 2, 2, 2, 2, 2, 2, 2, 2, 2, 2, 2, 2, 2, 2, 2, 2, 2, 2, 2, 2, 2, 2, 2, 2, 2, 2, 2, 2, 2, 2, 2, 2, 2, 2, 2, 2, 2, 2, 2, 2, 2, 2, 2, 2, 2, 2, 2, 2, 2, 2, 2, 2, 2, 2, 2, 2, 2, 2, 2, 2, 2, 2, 2, 2, 2, 2, 2, 2, 2, 2, 2, 2, 2, 2, 2, 2, 2, 2, 2, 2, 2, 2, 2, 2, 2, 2, 2, 2, 2, 2, 2, 2, 2, 2, 2, 2, 2, 2, 2, 2, 2, 2, 2, 2, 2, 2, 2, 2, 2, 2, 2, 2, 2, 2, 2, 2, 2, 2, 2, 2, 2, 2, 2, 2, 2, 2, 2, 2, 2, 2, 2, 2, 2, 2, 2, 2, 2, 2, 2, 2, 2, 2, 2, 2, 2, 2, 2, 2, 2, 2, 2, 2, 2, 2, 2, 2, 2, 2, 2, 2, 2, 2, 2, 2, 2, 2, 2, 2, 2, 2, 2, 2, 2, 2, 2, 2, 2, 2, 2, 2, 2, 2, 2, 2, 2, 2, 2, 2, 2, 2, 2, 2, 2, 2, 2, 2, 2, 2, 2, 2, 2, 2, 2, 2, 2, 2, 2, 2, 2, 2, 2, 2, 2, 2, 2, 2, 2, 2, 2, 2, 2, 2, 2, 2, 2, 2, 2, 2, 2, 2, 2, 2, 2, 2, 2, 2, 2, 2, 2, 2, 2, 2, 2, 2, 2, 2, 2, 2, 2, 2, 2, 2, 2, 2, 2, 2, 2, 2, 2, 2, 2, 2, 2, 2, 2, 2, 2, 2, 2, 2, 2, 2, 2, 2, 2, 2, 2, 2, 2, 2, 2, 2, 2, 2, 2, 2, 2, 2, 2, 2, 2, 2, 2, 2, 2, 2, 2, 2, 2, 2, 2, 2, 2, 2, 2, 2, 2, 2, 2, 2, 2, 2, 2, 2, 2, 2, 2, 2, 2, 2, 2, 2, 2, 2, 2, 2, 2, 2, 2, 2, 2, 2, 2, 2, 2, 2, 2, 2, 2, 2, 2, 2, 2, 2, 2, 2, 2, 2, 2, 2, 2, 2, 2, 2, 2, 2, 2, 2, 2, 2, 2, 2, 2, 2, 2, 2, 2, 2, 2, 2, 2, 2, 2, 2, 2, 2, 2, 2, 2, 2, 2, 2, 2, 2, 2, 2, 2, 2, 2, 2, 2, 2, 2, 2, 2, 2, 2, 2, 2, 2, 2, 2, 2, 2, 2, 2, 2, 2, 2, 2, 2, 2, 2, 2, 2, 2, 2, 2, 2, 2, 2, 2, 2, 2, 2, 2, 2, 2, 2, 2, 2, 2, 2, 2, 2, 2, 2, 2, 2, 2, 2, 2, 2, 2, 2, 2, 2, 2, 2, 2, 2, 2, 2, 2, 2, 2, 2, 2, 2, 2, 2, 2, 2, 2, 2, 2, 2, 2, 2, 2, 2, 2, 2, 2]\n"
          ]
        }
      ],
      "source": [
        "print(len(graphLabel))\n",
        "print(graphLabel)"
      ]
    },
    {
      "cell_type": "code",
      "source": [
        "#graphLabel = graphLabel[800:2000]\n",
        "#graphSet = graphSet[800:2000]"
      ],
      "metadata": {
        "id": "7r-wOu79-TCq"
      },
      "execution_count": null,
      "outputs": []
    },
    {
      "cell_type": "code",
      "source": [
        "merge_set = pd.DataFrame({'Graphs':graphSet,'modulation':graphLabel})\n",
        "merge_set = merge_set.sample(frac=1)\n",
        "print(merge_set)"
      ],
      "metadata": {
        "colab": {
          "base_uri": "https://localhost:8080/"
        },
        "id": "sSsz8ZrhSfhw",
        "outputId": "5e0c2e87-2d26-4223-d542-711ca54d380c"
      },
      "execution_count": null,
      "outputs": [
        {
          "output_type": "stream",
          "name": "stdout",
          "text": [
            "                                                 Graphs  modulation\n",
            "204   <stellargraph.core.graph.StellarGraph object a...           1\n",
            "1101  <stellargraph.core.graph.StellarGraph object a...           2\n",
            "19    <stellargraph.core.graph.StellarGraph object a...           1\n",
            "973   <stellargraph.core.graph.StellarGraph object a...           1\n",
            "1007  <stellargraph.core.graph.StellarGraph object a...           2\n",
            "...                                                 ...         ...\n",
            "504   <stellargraph.core.graph.StellarGraph object a...           1\n",
            "148   <stellargraph.core.graph.StellarGraph object a...           1\n",
            "1403  <stellargraph.core.graph.StellarGraph object a...           2\n",
            "1440  <stellargraph.core.graph.StellarGraph object a...           2\n",
            "1317  <stellargraph.core.graph.StellarGraph object a...           2\n",
            "\n",
            "[2000 rows x 2 columns]\n"
          ]
        }
      ]
    },
    {
      "cell_type": "code",
      "source": [
        "graphSet = list(merge_set['Graphs'])\n",
        "graphLabel = list(merge_set['modulation'])"
      ],
      "metadata": {
        "id": "FGK80hfISlLr"
      },
      "execution_count": null,
      "outputs": []
    },
    {
      "cell_type": "code",
      "source": [
        "graphLabel = pd.Series(graphLabel)"
      ],
      "metadata": {
        "id": "0msCVGtUAxmU"
      },
      "execution_count": null,
      "outputs": []
    },
    {
      "cell_type": "code",
      "execution_count": null,
      "metadata": {
        "colab": {
          "base_uri": "https://localhost:8080/"
        },
        "id": "aN6J3dyvnB55",
        "outputId": "90ce64aa-77e6-4f85-aa28-313954c203c9"
      },
      "outputs": [
        {
          "output_type": "stream",
          "name": "stdout",
          "text": [
            "      2\n",
            "0     0\n",
            "1     1\n",
            "2     0\n",
            "3     0\n",
            "4     1\n",
            "...  ..\n",
            "1995  0\n",
            "1996  0\n",
            "1997  1\n",
            "1998  1\n",
            "1999  1\n",
            "\n",
            "[2000 rows x 1 columns]\n"
          ]
        }
      ],
      "source": [
        "graphLabel = pd.get_dummies(graphLabel, drop_first=True)\n",
        "print(graphLabel)"
      ]
    },
    {
      "cell_type": "code",
      "execution_count": null,
      "metadata": {
        "colab": {
          "base_uri": "https://localhost:8080/"
        },
        "id": "MsP7_u5yZPmO",
        "outputId": "9922346c-519e-4b12-c29f-f78b736c51f4"
      },
      "outputs": [
        {
          "output_type": "stream",
          "name": "stdout",
          "text": [
            "2000\n",
            "StellarGraph: Undirected multigraph\n",
            " Nodes: 20, Edges: 3172\n",
            "\n",
            " Node types:\n",
            "  default: [20]\n",
            "    Features: float32 vector, length 2\n",
            "    Edge types: default-default->default\n",
            "\n",
            " Edge types:\n",
            "    default-default->default: [3172]\n",
            "        Weights: range=[-1.08263, 1.09809], mean=-0.000620057, std=0.307655\n",
            "        Features: none\n",
            "StellarGraph: Undirected multigraph\n",
            " Nodes: 20, Edges: 3212\n",
            "\n",
            " Node types:\n",
            "  default: [20]\n",
            "    Features: float32 vector, length 2\n",
            "    Edge types: default-default->default\n",
            "\n",
            " Edge types:\n",
            "    default-default->default: [3212]\n",
            "        Weights: range=[-1.09419, 1.17979], mean=0.00107934, std=0.299191\n",
            "        Features: none\n"
          ]
        }
      ],
      "source": [
        "print(len(graphSet))\n",
        "print(graphSet[0].info())\n",
        "print(graphSet[1].info())"
      ]
    },
    {
      "cell_type": "code",
      "execution_count": null,
      "metadata": {
        "colab": {
          "base_uri": "https://localhost:8080/",
          "height": 143
        },
        "id": "TLzIVgA-aDUq",
        "outputId": "9ba94549-18ba-45dd-a8ae-be04630b0847"
      },
      "outputs": [
        {
          "output_type": "execute_result",
          "data": {
            "text/plain": [
              "      0\n",
              "2      \n",
              "0  1000\n",
              "1  1000"
            ],
            "text/html": [
              "\n",
              "  <div id=\"df-9d21eb22-aa20-48f5-a2f5-10ee49af6909\">\n",
              "    <div class=\"colab-df-container\">\n",
              "      <div>\n",
              "<style scoped>\n",
              "    .dataframe tbody tr th:only-of-type {\n",
              "        vertical-align: middle;\n",
              "    }\n",
              "\n",
              "    .dataframe tbody tr th {\n",
              "        vertical-align: top;\n",
              "    }\n",
              "\n",
              "    .dataframe thead th {\n",
              "        text-align: right;\n",
              "    }\n",
              "</style>\n",
              "<table border=\"1\" class=\"dataframe\">\n",
              "  <thead>\n",
              "    <tr style=\"text-align: right;\">\n",
              "      <th></th>\n",
              "      <th>0</th>\n",
              "    </tr>\n",
              "    <tr>\n",
              "      <th>2</th>\n",
              "      <th></th>\n",
              "    </tr>\n",
              "  </thead>\n",
              "  <tbody>\n",
              "    <tr>\n",
              "      <th>0</th>\n",
              "      <td>1000</td>\n",
              "    </tr>\n",
              "    <tr>\n",
              "      <th>1</th>\n",
              "      <td>1000</td>\n",
              "    </tr>\n",
              "  </tbody>\n",
              "</table>\n",
              "</div>\n",
              "      <button class=\"colab-df-convert\" onclick=\"convertToInteractive('df-9d21eb22-aa20-48f5-a2f5-10ee49af6909')\"\n",
              "              title=\"Convert this dataframe to an interactive table.\"\n",
              "              style=\"display:none;\">\n",
              "        \n",
              "  <svg xmlns=\"http://www.w3.org/2000/svg\" height=\"24px\"viewBox=\"0 0 24 24\"\n",
              "       width=\"24px\">\n",
              "    <path d=\"M0 0h24v24H0V0z\" fill=\"none\"/>\n",
              "    <path d=\"M18.56 5.44l.94 2.06.94-2.06 2.06-.94-2.06-.94-.94-2.06-.94 2.06-2.06.94zm-11 1L8.5 8.5l.94-2.06 2.06-.94-2.06-.94L8.5 2.5l-.94 2.06-2.06.94zm10 10l.94 2.06.94-2.06 2.06-.94-2.06-.94-.94-2.06-.94 2.06-2.06.94z\"/><path d=\"M17.41 7.96l-1.37-1.37c-.4-.4-.92-.59-1.43-.59-.52 0-1.04.2-1.43.59L10.3 9.45l-7.72 7.72c-.78.78-.78 2.05 0 2.83L4 21.41c.39.39.9.59 1.41.59.51 0 1.02-.2 1.41-.59l7.78-7.78 2.81-2.81c.8-.78.8-2.07 0-2.86zM5.41 20L4 18.59l7.72-7.72 1.47 1.35L5.41 20z\"/>\n",
              "  </svg>\n",
              "      </button>\n",
              "      \n",
              "  <style>\n",
              "    .colab-df-container {\n",
              "      display:flex;\n",
              "      flex-wrap:wrap;\n",
              "      gap: 12px;\n",
              "    }\n",
              "\n",
              "    .colab-df-convert {\n",
              "      background-color: #E8F0FE;\n",
              "      border: none;\n",
              "      border-radius: 50%;\n",
              "      cursor: pointer;\n",
              "      display: none;\n",
              "      fill: #1967D2;\n",
              "      height: 32px;\n",
              "      padding: 0 0 0 0;\n",
              "      width: 32px;\n",
              "    }\n",
              "\n",
              "    .colab-df-convert:hover {\n",
              "      background-color: #E2EBFA;\n",
              "      box-shadow: 0px 1px 2px rgba(60, 64, 67, 0.3), 0px 1px 3px 1px rgba(60, 64, 67, 0.15);\n",
              "      fill: #174EA6;\n",
              "    }\n",
              "\n",
              "    [theme=dark] .colab-df-convert {\n",
              "      background-color: #3B4455;\n",
              "      fill: #D2E3FC;\n",
              "    }\n",
              "\n",
              "    [theme=dark] .colab-df-convert:hover {\n",
              "      background-color: #434B5C;\n",
              "      box-shadow: 0px 1px 3px 1px rgba(0, 0, 0, 0.15);\n",
              "      filter: drop-shadow(0px 1px 2px rgba(0, 0, 0, 0.3));\n",
              "      fill: #FFFFFF;\n",
              "    }\n",
              "  </style>\n",
              "\n",
              "      <script>\n",
              "        const buttonEl =\n",
              "          document.querySelector('#df-9d21eb22-aa20-48f5-a2f5-10ee49af6909 button.colab-df-convert');\n",
              "        buttonEl.style.display =\n",
              "          google.colab.kernel.accessAllowed ? 'block' : 'none';\n",
              "\n",
              "        async function convertToInteractive(key) {\n",
              "          const element = document.querySelector('#df-9d21eb22-aa20-48f5-a2f5-10ee49af6909');\n",
              "          const dataTable =\n",
              "            await google.colab.kernel.invokeFunction('convertToInteractive',\n",
              "                                                     [key], {});\n",
              "          if (!dataTable) return;\n",
              "\n",
              "          const docLinkHtml = 'Like what you see? Visit the ' +\n",
              "            '<a target=\"_blank\" href=https://colab.research.google.com/notebooks/data_table.ipynb>data table notebook</a>'\n",
              "            + ' to learn more about interactive tables.';\n",
              "          element.innerHTML = '';\n",
              "          dataTable['output_type'] = 'display_data';\n",
              "          await google.colab.output.renderOutput(dataTable, element);\n",
              "          const docLink = document.createElement('div');\n",
              "          docLink.innerHTML = docLinkHtml;\n",
              "          element.appendChild(docLink);\n",
              "        }\n",
              "      </script>\n",
              "    </div>\n",
              "  </div>\n",
              "  "
            ]
          },
          "metadata": {},
          "execution_count": 19
        }
      ],
      "source": [
        "#graphSet = list(merge_set['Graphs'])\n",
        "#graphLabel = list(merge_set['modulation'])\n",
        "#graphLabel = pd.DataFrame(graphLabel,columns =['Labels'])\n",
        "graphLabel.value_counts().to_frame()"
      ]
    },
    {
      "cell_type": "code",
      "execution_count": null,
      "metadata": {
        "colab": {
          "base_uri": "https://localhost:8080/",
          "height": 104
        },
        "id": "YIJGaCpbKjnf",
        "outputId": "3a3788f4-b7c9-48ea-a926-351292f8ef7b"
      },
      "outputs": [
        {
          "output_type": "execute_result",
          "data": {
            "text/plain": [
              "'#some form of encoding\\ngraphLabel = pd.get_dummies(graphLabel, drop_first=True)\\nprint(graphLabel)\\nprint(pd.get_dummies(graphLabel))\\npd.get_dummies(graphLabel, drop_first=True)\\ns1 = [1,2,3,1,1,2]\\nprint(pd.get_dummies(s1))\\nprint(pd.get_dummies(s1,drop_first=True))\\ns1 = [-1,1,1,1,1,-1,1,-1,-1]\\nprint(pd.get_dummies(s1))\\nprint(pd.get_dummies(s1,drop_first=True))\\ns1 = pd.get_dummies(s1,drop_first=True)\\nprint(s1)\\n'"
            ],
            "application/vnd.google.colaboratory.intrinsic+json": {
              "type": "string"
            }
          },
          "metadata": {},
          "execution_count": 20
        }
      ],
      "source": [
        "'''#some form of encoding\n",
        "graphLabel = pd.get_dummies(graphLabel, drop_first=True)\n",
        "print(graphLabel)\n",
        "print(pd.get_dummies(graphLabel))\n",
        "pd.get_dummies(graphLabel, drop_first=True)\n",
        "s1 = [1,2,3,1,1,2]\n",
        "print(pd.get_dummies(s1))\n",
        "print(pd.get_dummies(s1,drop_first=True))\n",
        "s1 = [-1,1,1,1,1,-1,1,-1,-1]\n",
        "print(pd.get_dummies(s1))\n",
        "print(pd.get_dummies(s1,drop_first=True))\n",
        "s1 = pd.get_dummies(s1,drop_first=True)\n",
        "print(s1)\n",
        "'''"
      ]
    },
    {
      "cell_type": "code",
      "execution_count": null,
      "metadata": {
        "colab": {
          "base_uri": "https://localhost:8080/"
        },
        "id": "BUTelbtbKzAs",
        "outputId": "0e79aa0d-6fe0-4083-8ff5-046951318fcd"
      },
      "outputs": [
        {
          "output_type": "stream",
          "name": "stdout",
          "text": [
            "<stellargraph.mapper.padded_graph_generator.PaddedGraphGenerator object at 0x7f5b54122390>\n"
          ]
        }
      ],
      "source": [
        "\n",
        "from stellargraph.mapper import PaddedGraphGenerator\n",
        "generator = PaddedGraphGenerator(graphs=graphSet)\n",
        "print(generator)"
      ]
    },
    {
      "cell_type": "code",
      "execution_count": null,
      "metadata": {
        "colab": {
          "base_uri": "https://localhost:8080/"
        },
        "id": "hC7UXoj3STDh",
        "outputId": "7c20675d-f92e-47d3-890f-0c0dcbd23e21"
      },
      "outputs": [
        {
          "output_type": "stream",
          "name": "stdout",
          "text": [
            "Requirement already satisfied: tensorflow in /usr/local/lib/python3.7/dist-packages (2.8.0)\n",
            "Requirement already satisfied: astunparse>=1.6.0 in /usr/local/lib/python3.7/dist-packages (from tensorflow) (1.6.3)\n",
            "Requirement already satisfied: grpcio<2.0,>=1.24.3 in /usr/local/lib/python3.7/dist-packages (from tensorflow) (1.44.0)\n",
            "Requirement already satisfied: opt-einsum>=2.3.2 in /usr/local/lib/python3.7/dist-packages (from tensorflow) (3.3.0)\n",
            "Requirement already satisfied: tensorflow-io-gcs-filesystem>=0.23.1 in /usr/local/lib/python3.7/dist-packages (from tensorflow) (0.24.0)\n",
            "Requirement already satisfied: libclang>=9.0.1 in /usr/local/lib/python3.7/dist-packages (from tensorflow) (13.0.0)\n",
            "Requirement already satisfied: keras-preprocessing>=1.1.1 in /usr/local/lib/python3.7/dist-packages (from tensorflow) (1.1.2)\n",
            "Requirement already satisfied: wrapt>=1.11.0 in /usr/local/lib/python3.7/dist-packages (from tensorflow) (1.14.0)\n",
            "Requirement already satisfied: tensorboard<2.9,>=2.8 in /usr/local/lib/python3.7/dist-packages (from tensorflow) (2.8.0)\n",
            "Requirement already satisfied: protobuf>=3.9.2 in /usr/local/lib/python3.7/dist-packages (from tensorflow) (3.17.3)\n",
            "Requirement already satisfied: six>=1.12.0 in /usr/local/lib/python3.7/dist-packages (from tensorflow) (1.15.0)\n",
            "Requirement already satisfied: absl-py>=0.4.0 in /usr/local/lib/python3.7/dist-packages (from tensorflow) (1.0.0)\n",
            "Requirement already satisfied: google-pasta>=0.1.1 in /usr/local/lib/python3.7/dist-packages (from tensorflow) (0.2.0)\n",
            "Requirement already satisfied: gast>=0.2.1 in /usr/local/lib/python3.7/dist-packages (from tensorflow) (0.5.3)\n",
            "Requirement already satisfied: termcolor>=1.1.0 in /usr/local/lib/python3.7/dist-packages (from tensorflow) (1.1.0)\n",
            "Requirement already satisfied: numpy>=1.20 in /usr/local/lib/python3.7/dist-packages (from tensorflow) (1.21.5)\n",
            "Requirement already satisfied: flatbuffers>=1.12 in /usr/local/lib/python3.7/dist-packages (from tensorflow) (2.0)\n",
            "Requirement already satisfied: tf-estimator-nightly==2.8.0.dev2021122109 in /usr/local/lib/python3.7/dist-packages (from tensorflow) (2.8.0.dev2021122109)\n",
            "Requirement already satisfied: h5py>=2.9.0 in /usr/local/lib/python3.7/dist-packages (from tensorflow) (3.1.0)\n",
            "Requirement already satisfied: typing-extensions>=3.6.6 in /usr/local/lib/python3.7/dist-packages (from tensorflow) (4.1.1)\n",
            "Requirement already satisfied: keras<2.9,>=2.8.0rc0 in /usr/local/lib/python3.7/dist-packages (from tensorflow) (2.8.0)\n",
            "Requirement already satisfied: setuptools in /usr/local/lib/python3.7/dist-packages (from tensorflow) (57.4.0)\n",
            "Requirement already satisfied: wheel<1.0,>=0.23.0 in /usr/local/lib/python3.7/dist-packages (from astunparse>=1.6.0->tensorflow) (0.37.1)\n",
            "Requirement already satisfied: cached-property in /usr/local/lib/python3.7/dist-packages (from h5py>=2.9.0->tensorflow) (1.5.2)\n",
            "Requirement already satisfied: requests<3,>=2.21.0 in /usr/local/lib/python3.7/dist-packages (from tensorboard<2.9,>=2.8->tensorflow) (2.23.0)\n",
            "Requirement already satisfied: tensorboard-data-server<0.7.0,>=0.6.0 in /usr/local/lib/python3.7/dist-packages (from tensorboard<2.9,>=2.8->tensorflow) (0.6.1)\n",
            "Requirement already satisfied: werkzeug>=0.11.15 in /usr/local/lib/python3.7/dist-packages (from tensorboard<2.9,>=2.8->tensorflow) (1.0.1)\n",
            "Requirement already satisfied: google-auth-oauthlib<0.5,>=0.4.1 in /usr/local/lib/python3.7/dist-packages (from tensorboard<2.9,>=2.8->tensorflow) (0.4.6)\n",
            "Requirement already satisfied: tensorboard-plugin-wit>=1.6.0 in /usr/local/lib/python3.7/dist-packages (from tensorboard<2.9,>=2.8->tensorflow) (1.8.1)\n",
            "Requirement already satisfied: google-auth<3,>=1.6.3 in /usr/local/lib/python3.7/dist-packages (from tensorboard<2.9,>=2.8->tensorflow) (1.35.0)\n",
            "Requirement already satisfied: markdown>=2.6.8 in /usr/local/lib/python3.7/dist-packages (from tensorboard<2.9,>=2.8->tensorflow) (3.3.6)\n",
            "Requirement already satisfied: rsa<5,>=3.1.4 in /usr/local/lib/python3.7/dist-packages (from google-auth<3,>=1.6.3->tensorboard<2.9,>=2.8->tensorflow) (4.8)\n",
            "Requirement already satisfied: pyasn1-modules>=0.2.1 in /usr/local/lib/python3.7/dist-packages (from google-auth<3,>=1.6.3->tensorboard<2.9,>=2.8->tensorflow) (0.2.8)\n",
            "Requirement already satisfied: cachetools<5.0,>=2.0.0 in /usr/local/lib/python3.7/dist-packages (from google-auth<3,>=1.6.3->tensorboard<2.9,>=2.8->tensorflow) (4.2.4)\n",
            "Requirement already satisfied: requests-oauthlib>=0.7.0 in /usr/local/lib/python3.7/dist-packages (from google-auth-oauthlib<0.5,>=0.4.1->tensorboard<2.9,>=2.8->tensorflow) (1.3.1)\n",
            "Requirement already satisfied: importlib-metadata>=4.4 in /usr/local/lib/python3.7/dist-packages (from markdown>=2.6.8->tensorboard<2.9,>=2.8->tensorflow) (4.11.3)\n",
            "Requirement already satisfied: zipp>=0.5 in /usr/local/lib/python3.7/dist-packages (from importlib-metadata>=4.4->markdown>=2.6.8->tensorboard<2.9,>=2.8->tensorflow) (3.8.0)\n",
            "Requirement already satisfied: pyasn1<0.5.0,>=0.4.6 in /usr/local/lib/python3.7/dist-packages (from pyasn1-modules>=0.2.1->google-auth<3,>=1.6.3->tensorboard<2.9,>=2.8->tensorflow) (0.4.8)\n",
            "Requirement already satisfied: certifi>=2017.4.17 in /usr/local/lib/python3.7/dist-packages (from requests<3,>=2.21.0->tensorboard<2.9,>=2.8->tensorflow) (2021.10.8)\n",
            "Requirement already satisfied: chardet<4,>=3.0.2 in /usr/local/lib/python3.7/dist-packages (from requests<3,>=2.21.0->tensorboard<2.9,>=2.8->tensorflow) (3.0.4)\n",
            "Requirement already satisfied: idna<3,>=2.5 in /usr/local/lib/python3.7/dist-packages (from requests<3,>=2.21.0->tensorboard<2.9,>=2.8->tensorflow) (2.10)\n",
            "Requirement already satisfied: urllib3!=1.25.0,!=1.25.1,<1.26,>=1.21.1 in /usr/local/lib/python3.7/dist-packages (from requests<3,>=2.21.0->tensorboard<2.9,>=2.8->tensorflow) (1.24.3)\n",
            "Requirement already satisfied: oauthlib>=3.0.0 in /usr/local/lib/python3.7/dist-packages (from requests-oauthlib>=0.7.0->google-auth-oauthlib<0.5,>=0.4.1->tensorboard<2.9,>=2.8->tensorflow) (3.2.0)\n"
          ]
        }
      ],
      "source": [
        "!pip install tensorflow"
      ]
    },
    {
      "cell_type": "code",
      "execution_count": null,
      "metadata": {
        "id": "l71D2dohR6zf"
      },
      "outputs": [],
      "source": [
        "from stellargraph.layer import GCNSupervisedGraphClassification\n",
        "from stellargraph.layer import DeepGraphCNN\n",
        "from tensorflow.keras.optimizers import Adam\n",
        "from tensorflow.keras import Model\n",
        "from tensorflow.keras.layers import Dense\n",
        "from tensorflow.keras.losses import binary_crossentropy\n",
        "from tensorflow.keras.callbacks import EarlyStopping\n",
        "from tensorflow.keras.layers import Dense, Conv1D, MaxPool1D, Dropout, Flatten\n",
        "import tensorflow as tf\n",
        "from sklearn import model_selection"
      ]
    },
    {
      "cell_type": "code",
      "source": [
        "k = 35  # the number of rows for the output tensor\n",
        "layer_sizes = [32, 32, 32, 1]\n",
        "\n",
        "dgcnn_model = DeepGraphCNN(\n",
        "    layer_sizes=layer_sizes,\n",
        "    activations=[\"tanh\", \"tanh\", \"tanh\", \"tanh\"],\n",
        "    k=k,\n",
        "    bias=False,\n",
        "    generator=generator,\n",
        ")\n",
        "x_inp, x_out = dgcnn_model.in_out_tensors()"
      ],
      "metadata": {
        "colab": {
          "base_uri": "https://localhost:8080/"
        },
        "id": "6Zz7eAhhfI3c",
        "outputId": "f2fa21a1-c6f6-4484-a9f1-77353ef9cb28"
      },
      "execution_count": null,
      "outputs": [
        {
          "output_type": "stream",
          "name": "stdout",
          "text": [
            "WARNING:tensorflow:From /usr/local/lib/python3.7/dist-packages/tensorflow/python/util/deprecation.py:616: calling map_fn_v2 (from tensorflow.python.ops.map_fn) with dtype is deprecated and will be removed in a future version.\n",
            "Instructions for updating:\n",
            "Use fn_output_signature instead\n"
          ]
        }
      ]
    },
    {
      "cell_type": "code",
      "source": [
        "x_out = Conv1D(filters=16, kernel_size=sum(layer_sizes), strides=sum(layer_sizes))(x_out)\n",
        "x_out = MaxPool1D(pool_size=2)(x_out)\n",
        "\n",
        "x_out = Conv1D(filters=32, kernel_size=5, strides=1)(x_out)\n",
        "\n",
        "x_out = Flatten()(x_out)\n",
        "\n",
        "x_out = Dense(units=128, activation=\"relu\")(x_out)\n",
        "x_out = Dropout(rate=0.5)(x_out)\n",
        "\n",
        "predictions = Dense(units=1, activation=\"sigmoid\")(x_out)"
      ],
      "metadata": {
        "id": "zJiep6K0fe6a"
      },
      "execution_count": null,
      "outputs": []
    },
    {
      "cell_type": "code",
      "source": [
        "model = Model(inputs=x_inp, outputs=predictions)\n",
        "\n",
        "model.compile(\n",
        "    optimizer=Adam(lr=0.0001), loss=binary_crossentropy, metrics=[\"acc\"],\n",
        ")"
      ],
      "metadata": {
        "colab": {
          "base_uri": "https://localhost:8080/"
        },
        "id": "wUR8OkpMflYx",
        "outputId": "634912f3-cfe8-4e3b-f933-54077c88041b"
      },
      "execution_count": null,
      "outputs": [
        {
          "output_type": "stream",
          "name": "stderr",
          "text": [
            "/usr/local/lib/python3.7/dist-packages/keras/optimizer_v2/adam.py:105: UserWarning: The `lr` argument is deprecated, use `learning_rate` instead.\n",
            "  super(Adam, self).__init__(name, **kwargs)\n"
          ]
        }
      ]
    },
    {
      "cell_type": "code",
      "source": [
        "train_graphs, test_graphs = model_selection.train_test_split(\n",
        "    graphLabel, train_size=0.9, test_size=None, stratify=graphLabel,\n",
        ")"
      ],
      "metadata": {
        "id": "LISbzrtofoaD"
      },
      "execution_count": null,
      "outputs": []
    },
    {
      "cell_type": "code",
      "source": [
        "gen = PaddedGraphGenerator(graphs=graphSet)\n",
        "\n",
        "train_gen = gen.flow(\n",
        "    list(train_graphs.index - 1),\n",
        "    targets=train_graphs.values,\n",
        "    batch_size=50,\n",
        "    symmetric_normalization=False,\n",
        ")\n",
        "\n",
        "test_gen = gen.flow(\n",
        "    list(test_graphs.index - 1),\n",
        "    targets=test_graphs.values,\n",
        "    batch_size=1,\n",
        "    symmetric_normalization=False,\n",
        ")"
      ],
      "metadata": {
        "id": "T01yd4IkgGj2"
      },
      "execution_count": null,
      "outputs": []
    },
    {
      "cell_type": "code",
      "source": [
        "epochs = 100"
      ],
      "metadata": {
        "id": "aMWrX7vwgNWB"
      },
      "execution_count": null,
      "outputs": []
    },
    {
      "cell_type": "code",
      "source": [
        "history = model.fit(\n",
        "    train_gen, epochs=epochs, verbose=1, validation_data=test_gen, shuffle=True,\n",
        ")"
      ],
      "metadata": {
        "colab": {
          "base_uri": "https://localhost:8080/"
        },
        "id": "uTpUn0OOgWj0",
        "outputId": "84f029fe-64ed-42f9-e1cd-ec8453df4320"
      },
      "execution_count": null,
      "outputs": [
        {
          "output_type": "stream",
          "name": "stdout",
          "text": [
            "Epoch 1/100\n"
          ]
        },
        {
          "output_type": "stream",
          "name": "stderr",
          "text": [
            "/usr/local/lib/python3.7/dist-packages/tensorflow/python/framework/indexed_slices.py:446: UserWarning: Converting sparse IndexedSlices(IndexedSlices(indices=Tensor(\"gradient_tape/model/sort_pooling/map/while/gradients/model/sort_pooling/map/while/GatherV2_grad/Reshape_1:0\", shape=(None,), dtype=int32), values=Tensor(\"gradient_tape/model/sort_pooling/map/while/gradients/model/sort_pooling/map/while/GatherV2_grad/Reshape:0\", shape=(None, None), dtype=float32), dense_shape=Tensor(\"gradient_tape/model/sort_pooling/map/while/gradients/model/sort_pooling/map/while/GatherV2_grad/Cast:0\", shape=(2,), dtype=int32))) to a dense Tensor of unknown shape. This may consume a large amount of memory.\n",
            "  \"shape. This may consume a large amount of memory.\" % value)\n"
          ]
        },
        {
          "output_type": "stream",
          "name": "stdout",
          "text": [
            "36/36 [==============================] - 27s 363ms/step - loss: 0.6978 - acc: 0.4906 - val_loss: 0.6927 - val_acc: 0.5050\n",
            "Epoch 2/100\n",
            "36/36 [==============================] - 5s 143ms/step - loss: 0.6942 - acc: 0.4994 - val_loss: 0.6926 - val_acc: 0.5250\n",
            "Epoch 3/100\n",
            "36/36 [==============================] - 5s 142ms/step - loss: 0.6943 - acc: 0.5000 - val_loss: 0.6932 - val_acc: 0.5000\n",
            "Epoch 4/100\n",
            "36/36 [==============================] - 5s 142ms/step - loss: 0.6961 - acc: 0.4917 - val_loss: 0.6931 - val_acc: 0.4950\n",
            "Epoch 5/100\n",
            "36/36 [==============================] - 5s 141ms/step - loss: 0.6930 - acc: 0.5089 - val_loss: 0.6931 - val_acc: 0.5000\n",
            "Epoch 6/100\n",
            "36/36 [==============================] - 5s 141ms/step - loss: 0.6948 - acc: 0.4839 - val_loss: 0.6932 - val_acc: 0.5000\n",
            "Epoch 7/100\n",
            "36/36 [==============================] - 5s 140ms/step - loss: 0.6930 - acc: 0.5056 - val_loss: 0.6931 - val_acc: 0.5250\n",
            "Epoch 8/100\n",
            "36/36 [==============================] - 5s 142ms/step - loss: 0.6942 - acc: 0.4950 - val_loss: 0.6932 - val_acc: 0.5000\n",
            "Epoch 9/100\n",
            "36/36 [==============================] - 5s 139ms/step - loss: 0.6948 - acc: 0.4839 - val_loss: 0.6934 - val_acc: 0.4750\n",
            "Epoch 10/100\n",
            "36/36 [==============================] - 5s 142ms/step - loss: 0.6944 - acc: 0.4800 - val_loss: 0.6934 - val_acc: 0.4750\n",
            "Epoch 11/100\n",
            "36/36 [==============================] - 7s 203ms/step - loss: 0.6936 - acc: 0.4944 - val_loss: 0.6934 - val_acc: 0.4950\n",
            "Epoch 12/100\n",
            "36/36 [==============================] - 5s 142ms/step - loss: 0.6940 - acc: 0.4889 - val_loss: 0.6934 - val_acc: 0.4950\n",
            "Epoch 13/100\n",
            "36/36 [==============================] - 5s 143ms/step - loss: 0.6930 - acc: 0.5000 - val_loss: 0.6933 - val_acc: 0.5000\n",
            "Epoch 14/100\n",
            "36/36 [==============================] - 5s 139ms/step - loss: 0.6927 - acc: 0.5122 - val_loss: 0.6930 - val_acc: 0.5250\n",
            "Epoch 15/100\n",
            "36/36 [==============================] - 5s 142ms/step - loss: 0.6935 - acc: 0.5178 - val_loss: 0.6931 - val_acc: 0.5250\n",
            "Epoch 16/100\n",
            "36/36 [==============================] - 5s 139ms/step - loss: 0.6929 - acc: 0.5111 - val_loss: 0.6933 - val_acc: 0.5000\n",
            "Epoch 17/100\n",
            "36/36 [==============================] - 5s 142ms/step - loss: 0.6942 - acc: 0.4939 - val_loss: 0.6936 - val_acc: 0.4950\n",
            "Epoch 18/100\n",
            "36/36 [==============================] - 5s 140ms/step - loss: 0.6930 - acc: 0.5156 - val_loss: 0.6936 - val_acc: 0.4950\n",
            "Epoch 19/100\n",
            "36/36 [==============================] - 5s 141ms/step - loss: 0.6942 - acc: 0.4778 - val_loss: 0.6940 - val_acc: 0.4950\n",
            "Epoch 20/100\n",
            "36/36 [==============================] - 5s 140ms/step - loss: 0.6930 - acc: 0.5100 - val_loss: 0.6941 - val_acc: 0.4700\n",
            "Epoch 21/100\n",
            "36/36 [==============================] - 5s 141ms/step - loss: 0.6937 - acc: 0.4928 - val_loss: 0.6945 - val_acc: 0.4700\n",
            "Epoch 22/100\n",
            "36/36 [==============================] - 5s 140ms/step - loss: 0.6931 - acc: 0.5094 - val_loss: 0.6936 - val_acc: 0.4700\n",
            "Epoch 23/100\n",
            "36/36 [==============================] - 5s 141ms/step - loss: 0.6937 - acc: 0.5011 - val_loss: 0.6941 - val_acc: 0.4700\n",
            "Epoch 24/100\n",
            "36/36 [==============================] - 5s 141ms/step - loss: 0.6938 - acc: 0.4972 - val_loss: 0.6940 - val_acc: 0.4950\n",
            "Epoch 25/100\n",
            "36/36 [==============================] - 5s 141ms/step - loss: 0.6930 - acc: 0.4939 - val_loss: 0.6940 - val_acc: 0.4950\n",
            "Epoch 26/100\n",
            "36/36 [==============================] - 5s 140ms/step - loss: 0.6936 - acc: 0.5078 - val_loss: 0.6941 - val_acc: 0.4700\n",
            "Epoch 27/100\n",
            "36/36 [==============================] - 5s 141ms/step - loss: 0.6934 - acc: 0.4989 - val_loss: 0.6940 - val_acc: 0.4700\n",
            "Epoch 28/100\n",
            "36/36 [==============================] - 5s 142ms/step - loss: 0.6935 - acc: 0.5122 - val_loss: 0.6944 - val_acc: 0.4700\n",
            "Epoch 29/100\n",
            "36/36 [==============================] - 5s 141ms/step - loss: 0.6928 - acc: 0.5128 - val_loss: 0.6944 - val_acc: 0.4950\n",
            "Epoch 30/100\n",
            "36/36 [==============================] - 5s 145ms/step - loss: 0.6929 - acc: 0.5050 - val_loss: 0.6941 - val_acc: 0.4950\n",
            "Epoch 31/100\n",
            "36/36 [==============================] - 5s 153ms/step - loss: 0.6930 - acc: 0.5111 - val_loss: 0.6944 - val_acc: 0.4700\n",
            "Epoch 32/100\n",
            "36/36 [==============================] - 8s 214ms/step - loss: 0.6932 - acc: 0.4922 - val_loss: 0.6946 - val_acc: 0.4700\n",
            "Epoch 33/100\n",
            "36/36 [==============================] - 11s 318ms/step - loss: 0.6933 - acc: 0.4906 - val_loss: 0.6946 - val_acc: 0.4700\n",
            "Epoch 34/100\n",
            "36/36 [==============================] - 5s 143ms/step - loss: 0.6936 - acc: 0.4822 - val_loss: 0.6946 - val_acc: 0.4700\n",
            "Epoch 35/100\n",
            "36/36 [==============================] - 5s 143ms/step - loss: 0.6932 - acc: 0.4950 - val_loss: 0.6946 - val_acc: 0.4700\n",
            "Epoch 36/100\n",
            "36/36 [==============================] - 5s 149ms/step - loss: 0.6942 - acc: 0.4861 - val_loss: 0.6943 - val_acc: 0.4950\n",
            "Epoch 37/100\n",
            "36/36 [==============================] - 5s 145ms/step - loss: 0.6931 - acc: 0.5061 - val_loss: 0.6938 - val_acc: 0.4950\n",
            "Epoch 38/100\n",
            "36/36 [==============================] - 5s 143ms/step - loss: 0.6923 - acc: 0.5161 - val_loss: 0.6938 - val_acc: 0.4950\n",
            "Epoch 39/100\n",
            "36/36 [==============================] - 5s 140ms/step - loss: 0.6935 - acc: 0.5178 - val_loss: 0.6940 - val_acc: 0.4950\n",
            "Epoch 40/100\n",
            "36/36 [==============================] - 5s 140ms/step - loss: 0.6932 - acc: 0.5089 - val_loss: 0.6948 - val_acc: 0.4700\n",
            "Epoch 41/100\n",
            "36/36 [==============================] - 5s 140ms/step - loss: 0.6930 - acc: 0.4983 - val_loss: 0.6944 - val_acc: 0.5000\n",
            "Epoch 42/100\n",
            "36/36 [==============================] - 5s 141ms/step - loss: 0.6933 - acc: 0.5061 - val_loss: 0.6946 - val_acc: 0.4700\n",
            "Epoch 43/100\n",
            "36/36 [==============================] - 5s 144ms/step - loss: 0.6936 - acc: 0.5033 - val_loss: 0.6946 - val_acc: 0.4700\n",
            "Epoch 44/100\n",
            "36/36 [==============================] - 5s 146ms/step - loss: 0.6933 - acc: 0.5139 - val_loss: 0.6947 - val_acc: 0.4700\n",
            "Epoch 45/100\n",
            "36/36 [==============================] - 6s 163ms/step - loss: 0.6929 - acc: 0.5189 - val_loss: 0.6939 - val_acc: 0.4950\n",
            "Epoch 46/100\n",
            "36/36 [==============================] - 5s 141ms/step - loss: 0.6931 - acc: 0.5117 - val_loss: 0.6939 - val_acc: 0.4750\n",
            "Epoch 47/100\n",
            "36/36 [==============================] - 5s 144ms/step - loss: 0.6937 - acc: 0.5033 - val_loss: 0.6939 - val_acc: 0.4950\n",
            "Epoch 48/100\n",
            "36/36 [==============================] - 5s 145ms/step - loss: 0.6928 - acc: 0.5072 - val_loss: 0.6940 - val_acc: 0.4950\n",
            "Epoch 49/100\n",
            "36/36 [==============================] - 5s 145ms/step - loss: 0.6928 - acc: 0.5139 - val_loss: 0.6941 - val_acc: 0.4950\n",
            "Epoch 50/100\n",
            "36/36 [==============================] - 5s 144ms/step - loss: 0.6939 - acc: 0.5133 - val_loss: 0.6944 - val_acc: 0.4700\n",
            "Epoch 51/100\n",
            "36/36 [==============================] - 5s 140ms/step - loss: 0.6930 - acc: 0.5017 - val_loss: 0.6943 - val_acc: 0.4700\n",
            "Epoch 52/100\n",
            "36/36 [==============================] - 5s 144ms/step - loss: 0.6934 - acc: 0.5017 - val_loss: 0.6944 - val_acc: 0.4700\n",
            "Epoch 53/100\n",
            "36/36 [==============================] - 5s 143ms/step - loss: 0.6931 - acc: 0.5067 - val_loss: 0.6945 - val_acc: 0.4700\n",
            "Epoch 54/100\n",
            "36/36 [==============================] - 5s 143ms/step - loss: 0.6941 - acc: 0.5017 - val_loss: 0.6950 - val_acc: 0.4700\n",
            "Epoch 55/100\n",
            "36/36 [==============================] - 5s 145ms/step - loss: 0.6932 - acc: 0.5144 - val_loss: 0.6944 - val_acc: 0.4950\n",
            "Epoch 56/100\n",
            "36/36 [==============================] - 5s 144ms/step - loss: 0.6933 - acc: 0.5000 - val_loss: 0.6950 - val_acc: 0.4700\n",
            "Epoch 57/100\n",
            "36/36 [==============================] - 5s 141ms/step - loss: 0.6942 - acc: 0.4950 - val_loss: 0.6941 - val_acc: 0.4950\n",
            "Epoch 58/100\n",
            "36/36 [==============================] - 5s 143ms/step - loss: 0.6930 - acc: 0.5178 - val_loss: 0.6944 - val_acc: 0.4950\n",
            "Epoch 59/100\n",
            "36/36 [==============================] - 5s 141ms/step - loss: 0.6934 - acc: 0.5011 - val_loss: 0.6953 - val_acc: 0.4700\n",
            "Epoch 60/100\n",
            "36/36 [==============================] - 5s 153ms/step - loss: 0.6935 - acc: 0.5017 - val_loss: 0.6946 - val_acc: 0.4700\n",
            "Epoch 61/100\n",
            "36/36 [==============================] - 5s 141ms/step - loss: 0.6934 - acc: 0.5039 - val_loss: 0.6940 - val_acc: 0.4750\n",
            "Epoch 62/100\n",
            "36/36 [==============================] - 5s 142ms/step - loss: 0.6929 - acc: 0.5172 - val_loss: 0.6940 - val_acc: 0.4950\n",
            "Epoch 63/100\n",
            "36/36 [==============================] - 5s 140ms/step - loss: 0.6925 - acc: 0.5139 - val_loss: 0.6942 - val_acc: 0.4950\n",
            "Epoch 64/100\n",
            "36/36 [==============================] - 5s 141ms/step - loss: 0.6928 - acc: 0.5172 - val_loss: 0.6941 - val_acc: 0.4950\n",
            "Epoch 65/100\n",
            "36/36 [==============================] - 5s 144ms/step - loss: 0.6927 - acc: 0.5189 - val_loss: 0.6943 - val_acc: 0.4700\n",
            "Epoch 66/100\n",
            "36/36 [==============================] - 5s 143ms/step - loss: 0.6931 - acc: 0.5039 - val_loss: 0.6943 - val_acc: 0.4950\n",
            "Epoch 67/100\n",
            "36/36 [==============================] - 5s 144ms/step - loss: 0.6924 - acc: 0.5156 - val_loss: 0.6951 - val_acc: 0.4950\n",
            "Epoch 68/100\n",
            "36/36 [==============================] - 5s 146ms/step - loss: 0.6926 - acc: 0.5189 - val_loss: 0.6950 - val_acc: 0.4700\n",
            "Epoch 69/100\n",
            "36/36 [==============================] - 5s 141ms/step - loss: 0.6934 - acc: 0.4911 - val_loss: 0.6947 - val_acc: 0.4950\n",
            "Epoch 70/100\n",
            "36/36 [==============================] - 5s 140ms/step - loss: 0.6927 - acc: 0.5078 - val_loss: 0.6950 - val_acc: 0.4700\n",
            "Epoch 71/100\n",
            "36/36 [==============================] - 5s 140ms/step - loss: 0.6928 - acc: 0.5244 - val_loss: 0.6947 - val_acc: 0.4950\n",
            "Epoch 72/100\n",
            "36/36 [==============================] - 5s 141ms/step - loss: 0.6943 - acc: 0.5006 - val_loss: 0.6949 - val_acc: 0.4700\n",
            "Epoch 73/100\n",
            "36/36 [==============================] - 5s 141ms/step - loss: 0.6940 - acc: 0.4972 - val_loss: 0.6948 - val_acc: 0.4700\n",
            "Epoch 74/100\n",
            "36/36 [==============================] - 5s 143ms/step - loss: 0.6930 - acc: 0.5161 - val_loss: 0.6948 - val_acc: 0.4950\n",
            "Epoch 75/100\n",
            "36/36 [==============================] - 5s 141ms/step - loss: 0.6932 - acc: 0.5006 - val_loss: 0.6950 - val_acc: 0.4950\n",
            "Epoch 76/100\n",
            "36/36 [==============================] - 5s 140ms/step - loss: 0.6929 - acc: 0.5067 - val_loss: 0.6950 - val_acc: 0.4700\n",
            "Epoch 77/100\n",
            "36/36 [==============================] - 5s 138ms/step - loss: 0.6933 - acc: 0.4956 - val_loss: 0.6950 - val_acc: 0.4950\n",
            "Epoch 78/100\n",
            "36/36 [==============================] - 5s 138ms/step - loss: 0.6932 - acc: 0.5011 - val_loss: 0.6948 - val_acc: 0.4700\n",
            "Epoch 79/100\n",
            "36/36 [==============================] - 5s 142ms/step - loss: 0.6926 - acc: 0.5178 - val_loss: 0.6948 - val_acc: 0.4950\n",
            "Epoch 80/100\n",
            "36/36 [==============================] - 5s 141ms/step - loss: 0.6924 - acc: 0.5089 - val_loss: 0.6950 - val_acc: 0.4700\n",
            "Epoch 81/100\n",
            "36/36 [==============================] - 5s 141ms/step - loss: 0.6932 - acc: 0.5067 - val_loss: 0.6949 - val_acc: 0.4700\n",
            "Epoch 82/100\n",
            "36/36 [==============================] - 5s 140ms/step - loss: 0.6929 - acc: 0.5044 - val_loss: 0.6949 - val_acc: 0.4700\n",
            "Epoch 83/100\n",
            "36/36 [==============================] - 5s 141ms/step - loss: 0.6928 - acc: 0.5128 - val_loss: 0.6949 - val_acc: 0.4700\n",
            "Epoch 84/100\n",
            "36/36 [==============================] - 5s 140ms/step - loss: 0.6921 - acc: 0.5278 - val_loss: 0.6947 - val_acc: 0.4950\n",
            "Epoch 85/100\n",
            "36/36 [==============================] - 5s 142ms/step - loss: 0.6933 - acc: 0.4944 - val_loss: 0.6952 - val_acc: 0.4700\n",
            "Epoch 86/100\n",
            "36/36 [==============================] - 5s 139ms/step - loss: 0.6921 - acc: 0.5300 - val_loss: 0.6949 - val_acc: 0.4700\n",
            "Epoch 87/100\n",
            "36/36 [==============================] - 5s 139ms/step - loss: 0.6936 - acc: 0.5044 - val_loss: 0.6947 - val_acc: 0.4700\n",
            "Epoch 88/100\n",
            "36/36 [==============================] - 5s 140ms/step - loss: 0.6926 - acc: 0.5200 - val_loss: 0.6952 - val_acc: 0.4700\n",
            "Epoch 89/100\n",
            "36/36 [==============================] - 5s 143ms/step - loss: 0.6921 - acc: 0.5183 - val_loss: 0.6959 - val_acc: 0.4700\n",
            "Epoch 90/100\n",
            "36/36 [==============================] - 5s 139ms/step - loss: 0.6930 - acc: 0.5117 - val_loss: 0.6957 - val_acc: 0.4700\n",
            "Epoch 91/100\n",
            "36/36 [==============================] - 5s 140ms/step - loss: 0.6927 - acc: 0.4917 - val_loss: 0.6952 - val_acc: 0.4700\n",
            "Epoch 92/100\n",
            "36/36 [==============================] - 5s 141ms/step - loss: 0.6936 - acc: 0.5044 - val_loss: 0.6952 - val_acc: 0.4700\n",
            "Epoch 93/100\n",
            "36/36 [==============================] - 5s 140ms/step - loss: 0.6936 - acc: 0.4950 - val_loss: 0.6952 - val_acc: 0.4700\n",
            "Epoch 94/100\n",
            "36/36 [==============================] - 5s 140ms/step - loss: 0.6940 - acc: 0.4839 - val_loss: 0.6949 - val_acc: 0.4700\n",
            "Epoch 95/100\n",
            "36/36 [==============================] - 5s 139ms/step - loss: 0.6934 - acc: 0.5039 - val_loss: 0.6947 - val_acc: 0.4950\n",
            "Epoch 96/100\n",
            "36/36 [==============================] - 5s 139ms/step - loss: 0.6938 - acc: 0.4911 - val_loss: 0.6944 - val_acc: 0.4700\n",
            "Epoch 97/100\n",
            "36/36 [==============================] - 5s 140ms/step - loss: 0.6932 - acc: 0.5100 - val_loss: 0.6947 - val_acc: 0.4700\n",
            "Epoch 98/100\n",
            "36/36 [==============================] - 5s 143ms/step - loss: 0.6934 - acc: 0.5050 - val_loss: 0.6944 - val_acc: 0.4700\n",
            "Epoch 99/100\n",
            "36/36 [==============================] - 5s 138ms/step - loss: 0.6927 - acc: 0.5200 - val_loss: 0.6946 - val_acc: 0.4750\n",
            "Epoch 100/100\n",
            "36/36 [==============================] - 5s 139ms/step - loss: 0.6928 - acc: 0.5050 - val_loss: 0.6946 - val_acc: 0.4700\n"
          ]
        }
      ]
    },
    {
      "cell_type": "code",
      "source": [
        "import stellargraph as sg"
      ],
      "metadata": {
        "id": "cPtGgBddg6N6"
      },
      "execution_count": null,
      "outputs": []
    },
    {
      "cell_type": "code",
      "source": [
        "sg.utils.plot_history(history)"
      ],
      "metadata": {
        "colab": {
          "base_uri": "https://localhost:8080/",
          "height": 585
        },
        "id": "lFmFJ1MZgdr1",
        "outputId": "d559c1ae-ea7a-4b2a-fc30-d4fcfbf75d20"
      },
      "execution_count": null,
      "outputs": [
        {
          "output_type": "display_data",
          "data": {
            "text/plain": [
              "<Figure size 504x576 with 2 Axes>"
            ],
            "image/png": "[encoded data removed]"
          },
          "metadata": {
            "needs_background": "light"
          }
        }
      ]
    },
    {
      "cell_type": "code",
      "source": [
        "test_metrics = model.evaluate(test_gen)\n",
        "print(\"\\nTest Set Metrics:\")\n",
        "for name, val in zip(model.metrics_names, test_metrics):\n",
        "    print(\"\\t{}: {:0.4f}\".format(name, val))"
      ],
      "metadata": {
        "colab": {
          "base_uri": "https://localhost:8080/"
        },
        "id": "DGxgg99-glW5",
        "outputId": "b0a2ab91-7ae0-4406-bdea-561d962c8884"
      },
      "execution_count": null,
      "outputs": [
        {
          "output_type": "stream",
          "name": "stdout",
          "text": [
            "200/200 [==============================] - 1s 6ms/step - loss: 0.6946 - acc: 0.4700\n",
            "\n",
            "Test Set Metrics:\n",
            "\tloss: 0.6946\n",
            "\tacc: 0.4700\n"
          ]
        }
      ]
    }
  ],
  "metadata": {
    "accelerator": "GPU",
    "colab": {
      "provenance": [],
      "authorship_tag": "ABX9TyO8eTAJNIgoAGqw4IHfIOu8",
      "include_colab_link": true
    },
    "kernelspec": {
      "display_name": "Python 3",
      "name": "python3"
    },
    "language_info": {
      "name": "python"
    }
  },
  "nbformat": 4,
  "nbformat_minor": 0
}